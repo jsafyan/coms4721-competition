{
 "cells": [
  {
   "cell_type": "code",
   "execution_count": 1,
   "metadata": {
    "collapsed": false
   },
   "outputs": [
    {
     "name": "stdout",
     "output_type": "stream",
     "text": [
      "1\n"
     ]
    }
   ],
   "source": [
    "# John Elton jre2132\n",
    "# Patrick Rogan psr2125\n",
    "# Joshua Safyan jds2258\n",
    "# Team 'JJ Reps'\n",
    "# COMS 4721 Machine Learning\n",
    "# Course Project\n",
    "\n",
    "import scipy as sp\n",
    "import numpy as np\n",
    "import pandas as pd\n",
    "import random\n",
    "import math\n",
    "from sklearn.qda import QDA\n",
    "from sklearn.lda import LDA\n",
    "from sklearn.linear_model import LogisticRegression\n",
    "from sklearn import tree\n",
    "from sklearn import preprocessing\n",
    "from sklearn.feature_selection import SelectKBest\n",
    "from sklearn.feature_selection import f_classif\n",
    "from sklearn.ensemble import RandomForestClassifier\n",
    "from sklearn import cross_validation\n",
    "from sklearn import metrics\n",
    "from sklearn.ensemble import AdaBoostClassifier\n",
    "from sklearn.tree import DecisionTreeClassifier\n",
    "from sklearn.decomposition import PCA\n",
    "from sklearn import svm\n",
    "\n",
    "sp.random.seed(1)\n",
    "\n",
    "##############################################################\n",
    "# Data Ingestion / Processing\n",
    "##############################################################\n",
    " \n",
    "data_in = pd.read_csv(\"data.csv\")\n",
    "test_in = pd.read_csv(\"quiz.csv\")\n",
    " \n",
    " \n",
    "categorical_vars = [0, 5, 7, 8, 9, 14, 16, 17, 18, 20, 23, 25, 26, 56, 57, 58]\n",
    "non_binary = [38, 39, 40, 41, 42, 43, 44, 45, 46, 47, 48, 49, 50, 51, 59, 60]\n",
    "categorical_vars = list(map(str, categorical_vars))\n",
    "non_binary = list(map(str, non_binary))\n",
    "\n",
    "def dummies_and_standardize(data, test):\n",
    "\t# see: http://stackoverflow.com/questions/34170413/possible-ways-to-do-one-hot-encoding-in-scikit-learn\n",
    "    X = pd.get_dummies(data[data.columns[:-1]])\n",
    "    test = pd.get_dummies(test)\n",
    "\n",
    "\t# get the columns in train that are not in test\n",
    "    cols_to_add = np.setdiff1d(X.columns, test.columns)\n",
    "\n",
    "\t# add these columns to test, setting them equal to zero\n",
    "    for col in cols_to_add:\n",
    "        test[col] = 0\n",
    "\n",
    "\t# select and reorder the test columns using the train columns\n",
    "    test = test[X.columns]\n",
    "\n",
    "\t#labels\n",
    "    y = data[data.columns[-1]]\n",
    "    return X, y, test\n",
    "\n",
    "\n",
    "data, labels, quiz = dummies_and_standardize(data_in, test_in)\n",
    "print 1"
   ]
  },
  {
   "cell_type": "code",
   "execution_count": 2,
   "metadata": {
    "collapsed": false,
    "scrolled": true
   },
   "outputs": [
    {
     "name": "stdout",
     "output_type": "stream",
     "text": [
      "1\n"
     ]
    }
   ],
   "source": [
    "#scale non-binary numerical features to be between 0 and 1\n",
    "data[non_binary] = data[non_binary].apply(lambda x: preprocessing.MinMaxScaler().fit_transform(x))\n",
    "quiz[non_binary] = quiz[non_binary].apply(lambda x: preprocessing.MinMaxScaler().fit_transform(x))\n",
    "\n",
    "# Get N and dim values for data and quiz\n",
    "quiz = quiz.values\n",
    "N = data.shape[0]\n",
    "dim = data.shape[1] \n",
    "N_quiz = quiz.shape[0]\n",
    "dim_quiz = quiz.shape[1]\n",
    "print 1"
   ]
  },
  {
   "cell_type": "code",
   "execution_count": 3,
   "metadata": {
    "collapsed": false
   },
   "outputs": [
    {
     "name": "stdout",
     "output_type": "stream",
     "text": [
      "1\n"
     ]
    }
   ],
   "source": [
    "# convert the data to sparse array format to reduce memory usage and increase speed\n",
    "data_sparse = sp.sparse.csr_matrix(data, shape=None, dtype=None, copy=False)\n",
    "quiz_sparse = sp.sparse.csr_matrix(quiz, shape=None, dtype=None, copy=False)\n",
    "del data\n",
    "del quiz\n",
    "print 1"
   ]
  },
  {
   "cell_type": "code",
   "execution_count": 4,
   "metadata": {
    "collapsed": false
   },
   "outputs": [
    {
     "name": "stdout",
     "output_type": "stream",
     "text": [
      "1\n"
     ]
    }
   ],
   "source": [
    "Logistic = LogisticRegression(C=1.0)\n",
    "#scores_logistic = cross_validation.cross_val_score(Logistic, data_sparse, labels, cv=5)\n",
    "Logistic.fit(data_sparse, labels)\n",
    "preds_logistic = Logistic.predict(data_sparse)\n",
    "print 1"
   ]
  },
  {
   "cell_type": "code",
   "execution_count": null,
   "metadata": {
    "collapsed": true
   },
   "outputs": [],
   "source": [
    "preds_logistic_quiz = Logistic.predict(quiz_sparse)"
   ]
  },
  {
   "cell_type": "code",
   "execution_count": null,
   "metadata": {
    "collapsed": false
   },
   "outputs": [],
   "source": [
    "RandomForest = RandomForestClassifier(n_estimators=40, criterion='gini', max_features='sqrt', n_jobs=-1,\n",
    "                                       min_samples_split = 4)\n",
    "RandomForest.fit(data_sparse, labels)\n",
    "\n",
    "print 1"
   ]
  },
  {
   "cell_type": "code",
   "execution_count": null,
   "metadata": {
    "collapsed": true
   },
   "outputs": [],
   "source": [
    "preds = RandomForest.predict(data_sparse)"
   ]
  },
  {
   "cell_type": "code",
   "execution_count": null,
   "metadata": {
    "collapsed": true
   },
   "outputs": [],
   "source": [
    "preds_quiz = RandomForest.predict(quiz_sparse)"
   ]
  },
  {
   "cell_type": "code",
   "execution_count": null,
   "metadata": {
    "collapsed": false
   },
   "outputs": [],
   "source": [
    "rf_probs = RandomForest.predict_proba(data_sparse)\n"
   ]
  },
  {
   "cell_type": "code",
   "execution_count": null,
   "metadata": {
    "collapsed": true
   },
   "outputs": [],
   "source": [
    "logistic_probs = Logistic.predict_proba(data_sparse)\n"
   ]
  },
  {
   "cell_type": "code",
   "execution_count": null,
   "metadata": {
    "collapsed": true
   },
   "outputs": [],
   "source": [
    "rf_probs_quiz = RandomForest.predict_proba(quiz_sparse)\n",
    "logistic_probs_quiz = Logistic.predict_proba(quiz_sparse)"
   ]
  },
  {
   "cell_type": "code",
   "execution_count": null,
   "metadata": {
    "collapsed": true
   },
   "outputs": [],
   "source": [
    "preds_new = sp.zeros(N)\n",
    "for i in range(N):\n",
    "    if ((rf_probs[i,0] > 0.4 and rf_probs[i,0] < 0.6) and (logistic_probs[i,0] > 0.9 or logistic_probs[i,0] < 0.1)):\n",
    "        if preds_logistic[i] == 1:\n",
    "            preds_new[i] = -1\n",
    "        elif preds_logistic[i] == -1:\n",
    "            preds_new[i] = 1\n",
    "    else:\n",
    "        preds_new[i] = preds[i]\n",
    "    "
   ]
  },
  {
   "cell_type": "code",
   "execution_count": null,
   "metadata": {
    "collapsed": true
   },
   "outputs": [],
   "source": [
    "preds_new_quiz = sp.zeros(N_quiz)\n",
    "for i in range(N_quiz):\n",
    "    if ((rf_probs_quiz[i,0] > 0.4 and rf_probs_quiz[i,0] < 0.6) and (logistic_probs_quiz[i,0] > 0.9 or logistic_probs_quiz[i,0] < 0.1)):\n",
    "        if preds_logistic_quiz[i] == 1:\n",
    "            preds_new_quiz[i] = -1\n",
    "        elif preds_logistic_quiz[i] == -1:\n",
    "            preds_new_quiz[i] = 1\n",
    "    else:\n",
    "        preds_new_quiz[i] = preds_quiz[i]"
   ]
  },
  {
   "cell_type": "code",
   "execution_count": null,
   "metadata": {
    "collapsed": false
   },
   "outputs": [],
   "source": [
    "error1 = 0\n",
    "error2 = 0\n",
    "for i in range(N):\n",
    "    if preds_new[i] != labels[i]:\n",
    "        error1 += 1\n",
    "    if preds[i] != labels[i]:\n",
    "        error2 += 1\n",
    "rate1 = float(error1)/N\n",
    "rate2 = float(error2)/N\n",
    "print rate1, rate2"
   ]
  },
  {
   "cell_type": "code",
   "execution_count": null,
   "metadata": {
    "collapsed": true
   },
   "outputs": [],
   "source": [
    "\n",
    "submission = pd.DataFrame({\"Prediction\": preds_new_quiz})\n",
    "submission.index += 1\n",
    "submission.to_csv(\"submission9.csv\", index_label=\"Id\")\n",
    "print 4"
   ]
  },
  {
   "cell_type": "code",
   "execution_count": null,
   "metadata": {
    "collapsed": false
   },
   "outputs": [],
   "source": [
    "#data_mat = data_in.as_matrix()\n",
    "#misclass_list = []\n",
    "#count0 = 0\n",
    "#count1 = 0\n",
    "#count2 = 0\n",
    "#count3 = 0\n",
    "#count4 = 0\n",
    "\n",
    "#for i in range(N):\n",
    "#    if ((rf_probs[i,0] > 0.4 and rf_probs[i,0] < 0.6) and (logistic_probs[i,0] > 0.9 or logistic_probs[i,0] < 0.1)):\n",
    "#            count2 +=1\n",
    "#            print preds_logistic[i],labels[i]\n",
    "#            if preds_logistic[i] != labels[i]:\n",
    "#                count3 += 1\n",
    "#            if preds[i] != labels[i]:\n",
    "#                count4 += 1\n",
    "        \n",
    "#print count0, count1, count2, count3, count4"
   ]
  },
  {
   "cell_type": "code",
   "execution_count": null,
   "metadata": {
    "collapsed": false
   },
   "outputs": [],
   "source": [
    "#data_2 = quiz_sparse[lowprob_list,:]\n",
    "#labels_2 = labels[lowprob_list]\n",
    "#print len(labels_2)"
   ]
  },
  {
   "cell_type": "code",
   "execution_count": null,
   "metadata": {
    "collapsed": false
   },
   "outputs": [],
   "source": [
    "#RandomForest_2 = RandomForestClassifier(n_estimators=40, criterion='gini', max_features='sqrt', n_jobs=-1,\n",
    "#                                       min_samples_split = 4)\n",
    "#scores_forest_2 = cross_validation.cross_val_score(RandomForest_2, data_2, labels_2, cv=5)\n",
    "#RandomForest_2.fit(data_2, labels_2)\n",
    "#preds_2 = RandomForest_2.predict(data_2)\n",
    "#print scores_forest_2"
   ]
  },
  {
   "cell_type": "code",
   "execution_count": null,
   "metadata": {
    "collapsed": false
   },
   "outputs": [],
   "source": [
    "#for i in range(len(lowprob_list)):\n",
    "#    preds_new[lowprob_list[i]] = preds_2[i]\n"
   ]
  },
  {
   "cell_type": "code",
   "execution_count": null,
   "metadata": {
    "collapsed": false
   },
   "outputs": [],
   "source": [
    "#submission = pd.DataFrame({\"Prediction\": preds_new_quiz})\n",
    "#submission.index += 1\n",
    "#submission.to_csv(\"submission8.csv\", index_label=\"Id\")\n",
    "#print 4"
   ]
  },
  {
   "cell_type": "code",
   "execution_count": null,
   "metadata": {
    "collapsed": false
   },
   "outputs": [],
   "source": [
    "# use SelectKBest to reduce dimension of data\n",
    "#KBest = SelectKBest(f_classif, k=100)\n",
    "#data_best = KBest.fit_transform(data_sparse, labels)\n",
    "#ind_best = KBest.get_support(indices=True)\n",
    "#quiz_best = quiz_sparse[:,ind_best]\n",
    "#print 1"
   ]
  },
  {
   "cell_type": "code",
   "execution_count": null,
   "metadata": {
    "collapsed": false
   },
   "outputs": [],
   "source": [
    "#sklearn.decomposition.PCA(n_components=None, copy=True, whiten=False)[source]\n",
    "#pca = PCA(n_components=50)\n",
    "#pca.fit(data)\n",
    "#data_new = pca.transform(data)\n",
    "#print data_new.shape\n",
    "#print(pca.explained_variance_ratio_) "
   ]
  },
  {
   "cell_type": "code",
   "execution_count": null,
   "metadata": {
    "collapsed": false
   },
   "outputs": [],
   "source": []
  },
  {
   "cell_type": "code",
   "execution_count": null,
   "metadata": {
    "collapsed": false
   },
   "outputs": [],
   "source": [
    "\n",
    "# best so far\n",
    "#RandomForest_3 = RandomForestClassifier(n_estimators=40, criterion='gini', max_features='sqrt', n_jobs=-1)\n",
    "#scores_forest = cross_validation.cross_val_score(RandomForest_3, data_sparse, labels, cv=5)\n",
    "#RandomForest_3.fit(data_sparse, labels)\n",
    "#print scores_forest\n",
    "\n",
    "#preds = RandomForest_3.predict(quiz_sparse)\n",
    "#submission = pd.DataFrame({\"Prediction\": preds})\n",
    "#submission.index += 1\n",
    "#submission.to_csv(\"submission4.csv\", index_label=\"Id\")\n",
    "#print 4\n"
   ]
  },
  {
   "cell_type": "code",
   "execution_count": null,
   "metadata": {
    "collapsed": false
   },
   "outputs": [],
   "source": [
    "#Logistic = LogisticRegression(C=1.0)\n",
    "#scores_logistic = cross_validation.cross_val_score(Logistic, data_best, labels, cv=5)\n",
    "#print scores_logistic\n"
   ]
  },
  {
   "cell_type": "code",
   "execution_count": null,
   "metadata": {
    "collapsed": false
   },
   "outputs": [],
   "source": []
  },
  {
   "cell_type": "code",
   "execution_count": null,
   "metadata": {
    "collapsed": false
   },
   "outputs": [],
   "source": [
    "#bdt_real = AdaBoostClassifier(\n",
    "#    base_estimator = RandomForest_3,\n",
    "#    n_estimators=200,\n",
    "#    learning_rate=1)\n",
    "#scores_bdt = cross_validation.cross_val_score(bdt_real, data_best, labels, cv=5)\n",
    "#bdt_real.fit(data_best, labels)\n",
    "#print scores_bdt\n",
    "#print 6"
   ]
  },
  {
   "cell_type": "code",
   "execution_count": null,
   "metadata": {
    "collapsed": false
   },
   "outputs": [],
   "source": [
    "#bdt_real.fit(data_best, labels)\n",
    "#preds = bdt_real.predict(quiz_best)\n",
    "#submission = pd.DataFrame({\"Prediction\": preds})\n",
    "#submission.index += 1\n",
    "#submission.to_csv(\"submission4.csv\", index_label=\"Id\")\n",
    "#print 5"
   ]
  }
 ],
 "metadata": {
  "kernelspec": {
   "display_name": "Python 2",
   "language": "python",
   "name": "python2"
  },
  "language_info": {
   "codemirror_mode": {
    "name": "ipython",
    "version": 2
   },
   "file_extension": ".py",
   "mimetype": "text/x-python",
   "name": "python",
   "nbconvert_exporter": "python",
   "pygments_lexer": "ipython2",
   "version": "2.7.10"
  }
 },
 "nbformat": 4,
 "nbformat_minor": 0
}
